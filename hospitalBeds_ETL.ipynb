{
 "cells": [
  {
   "cell_type": "code",
   "execution_count": 1,
   "metadata": {},
   "outputs": [],
   "source": [
    "import pandas as pd\n",
    "import numpy as np\n"
   ]
  },
  {
   "cell_type": "code",
   "execution_count": 2,
   "metadata": {},
   "outputs": [],
   "source": [
    "file_input = 'Datasets\\hospitalBeds.csv'\n",
    "file_pre_processed = 'Datasets\\hospitalBeds_processed.csv'"
   ]
  },
  {
   "cell_type": "code",
   "execution_count": 3,
   "metadata": {},
   "outputs": [],
   "source": [
    "df_input = pd.read_csv(file_input, header = 0)"
   ]
  },
  {
   "cell_type": "code",
   "execution_count": 4,
   "metadata": {
    "scrolled": true
   },
   "outputs": [
    {
     "name": "stdout",
     "output_type": "stream",
     "text": [
      "            VAR             Variable      UNIT Measure  COU     Country   YEA  \\\n",
      "0      HOPITBED  Total hospital beds  NOMBRENB  Number  AUS   Australia  2000   \n",
      "1      HOPITBED  Total hospital beds  NOMBRENB  Number  AUS   Australia  2001   \n",
      "2      HOPITBED  Total hospital beds  NOMBRENB  Number  AUS   Australia  2002   \n",
      "3      HOPITBED  Total hospital beds  NOMBRENB  Number  AUS   Australia  2003   \n",
      "4      HOPITBED  Total hospital beds  NOMBRENB  Number  AUS   Australia  2004   \n",
      "...         ...                  ...       ...     ...  ...         ...   ...   \n",
      "11194  HOPITBED  Total hospital beds  NOMBRENB  Number  CRI  Costa Rica  2013   \n",
      "11195  HOPITBED  Total hospital beds  NOMBRENB  Number  CRI  Costa Rica  2014   \n",
      "11196  HOPITBED  Total hospital beds  NOMBRENB  Number  CRI  Costa Rica  2015   \n",
      "11197  HOPITBED  Total hospital beds  NOMBRENB  Number  CRI  Costa Rica  2016   \n",
      "11198  HOPITBED  Total hospital beds  NOMBRENB  Number  CRI  Costa Rica  2017   \n",
      "\n",
      "       Year    Value Flag Codes Flags  \n",
      "0      2000  76875.0        NaN   NaN  \n",
      "1      2001  76209.0        NaN   NaN  \n",
      "2      2002  76653.0        NaN   NaN  \n",
      "3      2003  78240.0        NaN   NaN  \n",
      "4      2004  79639.0        NaN   NaN  \n",
      "...     ...      ...        ...   ...  \n",
      "11194  2013   5547.0        NaN   NaN  \n",
      "11195  2014   5596.0        NaN   NaN  \n",
      "11196  2015   5611.0        NaN   NaN  \n",
      "11197  2016   5668.0        NaN   NaN  \n",
      "11198  2017   5614.0        NaN   NaN  \n",
      "\n",
      "[11199 rows x 11 columns]\n"
     ]
    }
   ],
   "source": [
    "print(df_input)\n"
   ]
  },
  {
   "cell_type": "code",
   "execution_count": 5,
   "metadata": {},
   "outputs": [
    {
     "name": "stdout",
     "output_type": "stream",
     "text": [
      "                  Variable     Country    Value\n",
      "0      Total hospital beds   Australia  76875.0\n",
      "1      Total hospital beds   Australia  76209.0\n",
      "2      Total hospital beds   Australia  76653.0\n",
      "3      Total hospital beds   Australia  78240.0\n",
      "4      Total hospital beds   Australia  79639.0\n",
      "...                    ...         ...      ...\n",
      "11194  Total hospital beds  Costa Rica   5547.0\n",
      "11195  Total hospital beds  Costa Rica   5596.0\n",
      "11196  Total hospital beds  Costa Rica   5611.0\n",
      "11197  Total hospital beds  Costa Rica   5668.0\n",
      "11198  Total hospital beds  Costa Rica   5614.0\n",
      "\n",
      "[11199 rows x 3 columns]\n"
     ]
    }
   ],
   "source": [
    "data_Filter = pd.DataFrame(df_input.filter([\"Variable\", \"Country\", \"Value\"]))\n",
    "print(data_Filter)"
   ]
  },
  {
   "cell_type": "code",
   "execution_count": 6,
   "metadata": {},
   "outputs": [
    {
     "name": "stdout",
     "output_type": "stream",
     "text": [
      "                                         Variable         Country     Value\n",
      "0    Beds in for-profit privately owned hospitals       Australia   17477.0\n",
      "1    Beds in for-profit privately owned hospitals         Austria    8873.0\n",
      "2    Beds in for-profit privately owned hospitals          Canada     675.0\n",
      "3    Beds in for-profit privately owned hospitals           Chile   10516.0\n",
      "4    Beds in for-profit privately owned hospitals  Czech Republic   10528.0\n",
      "..                                            ...             ...       ...\n",
      "280                           Total hospital beds          Sweden   31765.0\n",
      "281                           Total hospital beds     Switzerland   45170.0\n",
      "282                           Total hospital beds          Turkey  225863.0\n",
      "283                           Total hospital beds  United Kingdom  240144.0\n",
      "284                           Total hospital beds   United States  987440.0\n",
      "\n",
      "[285 rows x 3 columns]\n"
     ]
    }
   ],
   "source": [
    "data_ValueSum = pd.DataFrame(data_Filter.groupby([\"Variable\", \"Country\"]).max().reset_index())\n",
    "print(data_ValueSum)"
   ]
  },
  {
   "cell_type": "code",
   "execution_count": 7,
   "metadata": {},
   "outputs": [],
   "source": [
    "data_ValueSum.to_csv(file_pre_processed, encoding='utf-8', index=False)"
   ]
  },
  {
   "cell_type": "code",
   "execution_count": null,
   "metadata": {},
   "outputs": [],
   "source": []
  }
 ],
 "metadata": {
  "kernelspec": {
   "display_name": "Python 3",
   "language": "python",
   "name": "python3"
  },
  "language_info": {
   "codemirror_mode": {
    "name": "ipython",
    "version": 3
   },
   "file_extension": ".py",
   "mimetype": "text/x-python",
   "name": "python",
   "nbconvert_exporter": "python",
   "pygments_lexer": "ipython3",
   "version": "3.7.6"
  }
 },
 "nbformat": 4,
 "nbformat_minor": 4
}
